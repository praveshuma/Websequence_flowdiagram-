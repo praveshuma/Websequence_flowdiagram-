{
 "cells": [
  {
   "cell_type": "code",
   "execution_count": 22,
   "id": "75d25ed2",
   "metadata": {},
   "outputs": [
    {
     "name": "stdout",
     "output_type": "stream",
     "text": [
      "Please enter either number or string:0\n",
      "IN else loop for number operation\n",
      "Please enter 0 for Addition, 1 for Substraction, 2 for Multiplication, 3 for Division:3\n",
      "Please enternumber1:12\n",
      "Please enternumber2:3\n",
      "Answer is 4.0\n"
     ]
    }
   ],
   "source": [
    "class x(object):\n",
    "    def check():\n",
    "        useroption = x.getInput(\" either number or string:\")\n",
    "        if useroption.isdigit():\n",
    "            print(\"IN else loop for number operation\")\n",
    "\n",
    "            checkOperation = x.getInput(\" 0 for Addition, 1 for Substraction, 2 for Multiplication, 3 for Division:\")\n",
    "            if checkOperation not in dictforoptions.keys():\n",
    "                print(\"Sorry wrong Option\")\n",
    "            else:\n",
    "                enterNumber = x.getInput(\"number1:\")\n",
    "                enterNumber1 = x.getInput(\"number2:\")\n",
    "                calldict = dictforoptions[checkOperation](int(enterNumber),int(enterNumber1))\n",
    "                print(\"Answer is\", calldict)\n",
    "        else:\n",
    "            checkEmail=x.checkEmail(useroption)\n",
    "            if checkEmail == True:\n",
    "                print(\"valid Email\")\n",
    "            else:\n",
    "                print(\"Invalid Email\")\n",
    "    def addition(n1,n2):\n",
    "        sum = n1+n2\n",
    "        return sum\n",
    "    \n",
    "    def subtraction(n1,n2):\n",
    "        subtractnumbers = n1-n2\n",
    "        return subtractnumbers\n",
    "    \n",
    "    def multiplication(n1,n2):\n",
    "        multiplynumbers = n1*n2\n",
    "        return multiplynumbers\n",
    "    \n",
    "    def division(n1,n2):\n",
    "        divide = n1/n2\n",
    "        return divide\n",
    "    \n",
    "    def checkEmail(email):\n",
    "        regex=r'\\b[A-Za-z0-9._%+-]+@[A-Za-z0-9.-]+\\.[A-Z|a-z]{2,}\\b'\n",
    "        if(re.fullmatch(regex,email)):\n",
    "            return True\n",
    "        else:\n",
    "            return False\n",
    "    def getInput(name):\n",
    "        return input(\"Please enter\" + name)\n",
    "    \n",
    "dictforoptions={\n",
    "    \"0\":x.addition,\n",
    "    \"1\":x.subtraction,\n",
    "    \"2\":x.multiplication,\n",
    "    \"3\":x.division\n",
    "}\n",
    "if __name__==\"__main__\":\n",
    "    x.check()"
   ]
  },
  {
   "cell_type": "code",
   "execution_count": null,
   "id": "8a72f85f",
   "metadata": {},
   "outputs": [],
   "source": []
  }
 ],
 "metadata": {
  "kernelspec": {
   "display_name": "Python 3",
   "language": "python",
   "name": "python3"
  },
  "language_info": {
   "codemirror_mode": {
    "name": "ipython",
    "version": 3
   },
   "file_extension": ".py",
   "mimetype": "text/x-python",
   "name": "python",
   "nbconvert_exporter": "python",
   "pygments_lexer": "ipython3",
   "version": "3.8.8"
  }
 },
 "nbformat": 4,
 "nbformat_minor": 5
}
